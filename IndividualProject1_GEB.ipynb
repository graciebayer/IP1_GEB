{
  "cells": [
    {
      "cell_type": "markdown",
      "metadata": {
        "id": "5TsURH3Y5g8K"
      },
      "source": [
        "#CS430 - Individual Project 1\n",
        "##**US Cars Dataset**\n",
        "Gracie Bayer - October 20, 2022"
      ]
    },
    {
      "cell_type": "code",
      "execution_count": 1,
      "metadata": {
        "id": "_9tO6wJF5gTL"
      },
      "outputs": [],
      "source": [
        "import numpy as np\n",
        "import pandas as pd\n",
        "import matplotlib.pyplot as plt"
      ]
    },
    {
      "cell_type": "code",
      "execution_count": 2,
      "metadata": {
        "id": "7F29rHlc5jGA"
      },
      "outputs": [],
      "source": [
        "data=pd.read_csv('/content/USA_cars_datasets.csv')"
      ]
    },
    {
      "cell_type": "code",
      "execution_count": 3,
      "metadata": {
        "colab": {
          "base_uri": "https://localhost:8080/",
          "height": 204
        },
        "id": "K2rNUZhB5mrF",
        "outputId": "657fc6b3-bf23-4e39-acf3-a18661faba99"
      },
      "outputs": [
        {
          "output_type": "execute_result",
          "data": {
            "text/plain": [
              "   Unnamed: 0  price      brand    model  year   title_status   mileage  \\\n",
              "0           0   6300     toyota  cruiser  2008  clean vehicle  274117.0   \n",
              "1           1   2899       ford       se  2011  clean vehicle  190552.0   \n",
              "2           2   5350      dodge      mpv  2018  clean vehicle   39590.0   \n",
              "3           3  25000       ford     door  2014  clean vehicle   64146.0   \n",
              "4           4  27700  chevrolet     1500  2018  clean vehicle    6654.0   \n",
              "\n",
              "    color                  vin        lot       state country      condition  \n",
              "0   black    jtezu11f88k007763  159348797  new jersey     usa   10 days left  \n",
              "1  silver    2fmdk3gc4bbb02217  166951262   tennessee     usa    6 days left  \n",
              "2  silver    3c4pdcgg5jt346413  167655728     georgia     usa    2 days left  \n",
              "3    blue    1ftfw1et4efc23745  167753855    virginia     usa  22 hours left  \n",
              "4     red    3gcpcrec2jg473991  167763266     florida     usa  22 hours left  "
            ],
            "text/html": [
              "\n",
              "  <div id=\"df-c60c8169-2997-4b3c-814e-a2a6d9d6d359\">\n",
              "    <div class=\"colab-df-container\">\n",
              "      <div>\n",
              "<style scoped>\n",
              "    .dataframe tbody tr th:only-of-type {\n",
              "        vertical-align: middle;\n",
              "    }\n",
              "\n",
              "    .dataframe tbody tr th {\n",
              "        vertical-align: top;\n",
              "    }\n",
              "\n",
              "    .dataframe thead th {\n",
              "        text-align: right;\n",
              "    }\n",
              "</style>\n",
              "<table border=\"1\" class=\"dataframe\">\n",
              "  <thead>\n",
              "    <tr style=\"text-align: right;\">\n",
              "      <th></th>\n",
              "      <th>Unnamed: 0</th>\n",
              "      <th>price</th>\n",
              "      <th>brand</th>\n",
              "      <th>model</th>\n",
              "      <th>year</th>\n",
              "      <th>title_status</th>\n",
              "      <th>mileage</th>\n",
              "      <th>color</th>\n",
              "      <th>vin</th>\n",
              "      <th>lot</th>\n",
              "      <th>state</th>\n",
              "      <th>country</th>\n",
              "      <th>condition</th>\n",
              "    </tr>\n",
              "  </thead>\n",
              "  <tbody>\n",
              "    <tr>\n",
              "      <th>0</th>\n",
              "      <td>0</td>\n",
              "      <td>6300</td>\n",
              "      <td>toyota</td>\n",
              "      <td>cruiser</td>\n",
              "      <td>2008</td>\n",
              "      <td>clean vehicle</td>\n",
              "      <td>274117.0</td>\n",
              "      <td>black</td>\n",
              "      <td>jtezu11f88k007763</td>\n",
              "      <td>159348797</td>\n",
              "      <td>new jersey</td>\n",
              "      <td>usa</td>\n",
              "      <td>10 days left</td>\n",
              "    </tr>\n",
              "    <tr>\n",
              "      <th>1</th>\n",
              "      <td>1</td>\n",
              "      <td>2899</td>\n",
              "      <td>ford</td>\n",
              "      <td>se</td>\n",
              "      <td>2011</td>\n",
              "      <td>clean vehicle</td>\n",
              "      <td>190552.0</td>\n",
              "      <td>silver</td>\n",
              "      <td>2fmdk3gc4bbb02217</td>\n",
              "      <td>166951262</td>\n",
              "      <td>tennessee</td>\n",
              "      <td>usa</td>\n",
              "      <td>6 days left</td>\n",
              "    </tr>\n",
              "    <tr>\n",
              "      <th>2</th>\n",
              "      <td>2</td>\n",
              "      <td>5350</td>\n",
              "      <td>dodge</td>\n",
              "      <td>mpv</td>\n",
              "      <td>2018</td>\n",
              "      <td>clean vehicle</td>\n",
              "      <td>39590.0</td>\n",
              "      <td>silver</td>\n",
              "      <td>3c4pdcgg5jt346413</td>\n",
              "      <td>167655728</td>\n",
              "      <td>georgia</td>\n",
              "      <td>usa</td>\n",
              "      <td>2 days left</td>\n",
              "    </tr>\n",
              "    <tr>\n",
              "      <th>3</th>\n",
              "      <td>3</td>\n",
              "      <td>25000</td>\n",
              "      <td>ford</td>\n",
              "      <td>door</td>\n",
              "      <td>2014</td>\n",
              "      <td>clean vehicle</td>\n",
              "      <td>64146.0</td>\n",
              "      <td>blue</td>\n",
              "      <td>1ftfw1et4efc23745</td>\n",
              "      <td>167753855</td>\n",
              "      <td>virginia</td>\n",
              "      <td>usa</td>\n",
              "      <td>22 hours left</td>\n",
              "    </tr>\n",
              "    <tr>\n",
              "      <th>4</th>\n",
              "      <td>4</td>\n",
              "      <td>27700</td>\n",
              "      <td>chevrolet</td>\n",
              "      <td>1500</td>\n",
              "      <td>2018</td>\n",
              "      <td>clean vehicle</td>\n",
              "      <td>6654.0</td>\n",
              "      <td>red</td>\n",
              "      <td>3gcpcrec2jg473991</td>\n",
              "      <td>167763266</td>\n",
              "      <td>florida</td>\n",
              "      <td>usa</td>\n",
              "      <td>22 hours left</td>\n",
              "    </tr>\n",
              "  </tbody>\n",
              "</table>\n",
              "</div>\n",
              "      <button class=\"colab-df-convert\" onclick=\"convertToInteractive('df-c60c8169-2997-4b3c-814e-a2a6d9d6d359')\"\n",
              "              title=\"Convert this dataframe to an interactive table.\"\n",
              "              style=\"display:none;\">\n",
              "        \n",
              "  <svg xmlns=\"http://www.w3.org/2000/svg\" height=\"24px\"viewBox=\"0 0 24 24\"\n",
              "       width=\"24px\">\n",
              "    <path d=\"M0 0h24v24H0V0z\" fill=\"none\"/>\n",
              "    <path d=\"M18.56 5.44l.94 2.06.94-2.06 2.06-.94-2.06-.94-.94-2.06-.94 2.06-2.06.94zm-11 1L8.5 8.5l.94-2.06 2.06-.94-2.06-.94L8.5 2.5l-.94 2.06-2.06.94zm10 10l.94 2.06.94-2.06 2.06-.94-2.06-.94-.94-2.06-.94 2.06-2.06.94z\"/><path d=\"M17.41 7.96l-1.37-1.37c-.4-.4-.92-.59-1.43-.59-.52 0-1.04.2-1.43.59L10.3 9.45l-7.72 7.72c-.78.78-.78 2.05 0 2.83L4 21.41c.39.39.9.59 1.41.59.51 0 1.02-.2 1.41-.59l7.78-7.78 2.81-2.81c.8-.78.8-2.07 0-2.86zM5.41 20L4 18.59l7.72-7.72 1.47 1.35L5.41 20z\"/>\n",
              "  </svg>\n",
              "      </button>\n",
              "      \n",
              "  <style>\n",
              "    .colab-df-container {\n",
              "      display:flex;\n",
              "      flex-wrap:wrap;\n",
              "      gap: 12px;\n",
              "    }\n",
              "\n",
              "    .colab-df-convert {\n",
              "      background-color: #E8F0FE;\n",
              "      border: none;\n",
              "      border-radius: 50%;\n",
              "      cursor: pointer;\n",
              "      display: none;\n",
              "      fill: #1967D2;\n",
              "      height: 32px;\n",
              "      padding: 0 0 0 0;\n",
              "      width: 32px;\n",
              "    }\n",
              "\n",
              "    .colab-df-convert:hover {\n",
              "      background-color: #E2EBFA;\n",
              "      box-shadow: 0px 1px 2px rgba(60, 64, 67, 0.3), 0px 1px 3px 1px rgba(60, 64, 67, 0.15);\n",
              "      fill: #174EA6;\n",
              "    }\n",
              "\n",
              "    [theme=dark] .colab-df-convert {\n",
              "      background-color: #3B4455;\n",
              "      fill: #D2E3FC;\n",
              "    }\n",
              "\n",
              "    [theme=dark] .colab-df-convert:hover {\n",
              "      background-color: #434B5C;\n",
              "      box-shadow: 0px 1px 3px 1px rgba(0, 0, 0, 0.15);\n",
              "      filter: drop-shadow(0px 1px 2px rgba(0, 0, 0, 0.3));\n",
              "      fill: #FFFFFF;\n",
              "    }\n",
              "  </style>\n",
              "\n",
              "      <script>\n",
              "        const buttonEl =\n",
              "          document.querySelector('#df-c60c8169-2997-4b3c-814e-a2a6d9d6d359 button.colab-df-convert');\n",
              "        buttonEl.style.display =\n",
              "          google.colab.kernel.accessAllowed ? 'block' : 'none';\n",
              "\n",
              "        async function convertToInteractive(key) {\n",
              "          const element = document.querySelector('#df-c60c8169-2997-4b3c-814e-a2a6d9d6d359');\n",
              "          const dataTable =\n",
              "            await google.colab.kernel.invokeFunction('convertToInteractive',\n",
              "                                                     [key], {});\n",
              "          if (!dataTable) return;\n",
              "\n",
              "          const docLinkHtml = 'Like what you see? Visit the ' +\n",
              "            '<a target=\"_blank\" href=https://colab.research.google.com/notebooks/data_table.ipynb>data table notebook</a>'\n",
              "            + ' to learn more about interactive tables.';\n",
              "          element.innerHTML = '';\n",
              "          dataTable['output_type'] = 'display_data';\n",
              "          await google.colab.output.renderOutput(dataTable, element);\n",
              "          const docLink = document.createElement('div');\n",
              "          docLink.innerHTML = docLinkHtml;\n",
              "          element.appendChild(docLink);\n",
              "        }\n",
              "      </script>\n",
              "    </div>\n",
              "  </div>\n",
              "  "
            ]
          },
          "metadata": {},
          "execution_count": 3
        }
      ],
      "source": [
        "data.head()"
      ]
    },
    {
      "cell_type": "code",
      "execution_count": 4,
      "metadata": {
        "colab": {
          "base_uri": "https://localhost:8080/"
        },
        "id": "4B7ZhKoQ5mvD",
        "outputId": "8d13a53c-0bfb-432b-e5de-42db954ba665"
      },
      "outputs": [
        {
          "output_type": "stream",
          "name": "stdout",
          "text": [
            "<class 'pandas.core.frame.DataFrame'>\n",
            "RangeIndex: 2499 entries, 0 to 2498\n",
            "Data columns (total 13 columns):\n",
            " #   Column        Non-Null Count  Dtype  \n",
            "---  ------        --------------  -----  \n",
            " 0   Unnamed: 0    2499 non-null   int64  \n",
            " 1   price         2499 non-null   int64  \n",
            " 2   brand         2499 non-null   object \n",
            " 3   model         2499 non-null   object \n",
            " 4   year          2499 non-null   int64  \n",
            " 5   title_status  2499 non-null   object \n",
            " 6   mileage       2499 non-null   float64\n",
            " 7   color         2499 non-null   object \n",
            " 8   vin           2499 non-null   object \n",
            " 9   lot           2499 non-null   int64  \n",
            " 10  state         2499 non-null   object \n",
            " 11  country       2499 non-null   object \n",
            " 12  condition     2499 non-null   object \n",
            "dtypes: float64(1), int64(4), object(8)\n",
            "memory usage: 253.9+ KB\n"
          ]
        }
      ],
      "source": [
        "data.info()"
      ]
    },
    {
      "cell_type": "code",
      "execution_count": 5,
      "metadata": {
        "colab": {
          "base_uri": "https://localhost:8080/",
          "height": 297
        },
        "id": "f5Wts1Jj5mx0",
        "outputId": "b387778f-846e-4ef8-b510-c9778e5baed1"
      },
      "outputs": [
        {
          "output_type": "execute_result",
          "data": {
            "text/plain": [
              "        Unnamed: 0         price         year       mileage           lot\n",
              "count  2499.000000   2499.000000  2499.000000  2.499000e+03  2.499000e+03\n",
              "mean   1249.000000  18767.671469  2016.714286  5.229869e+04  1.676914e+08\n",
              "std     721.543484  12116.094936     3.442656  5.970552e+04  2.038772e+05\n",
              "min       0.000000      0.000000  1973.000000  0.000000e+00  1.593488e+08\n",
              "25%     624.500000  10200.000000  2016.000000  2.146650e+04  1.676253e+08\n",
              "50%    1249.000000  16900.000000  2018.000000  3.536500e+04  1.677451e+08\n",
              "75%    1873.500000  25555.500000  2019.000000  6.347250e+04  1.677798e+08\n",
              "max    2498.000000  84900.000000  2020.000000  1.017936e+06  1.678055e+08"
            ],
            "text/html": [
              "\n",
              "  <div id=\"df-4de7241f-c3fc-4d18-bc5c-34ec7ad1af69\">\n",
              "    <div class=\"colab-df-container\">\n",
              "      <div>\n",
              "<style scoped>\n",
              "    .dataframe tbody tr th:only-of-type {\n",
              "        vertical-align: middle;\n",
              "    }\n",
              "\n",
              "    .dataframe tbody tr th {\n",
              "        vertical-align: top;\n",
              "    }\n",
              "\n",
              "    .dataframe thead th {\n",
              "        text-align: right;\n",
              "    }\n",
              "</style>\n",
              "<table border=\"1\" class=\"dataframe\">\n",
              "  <thead>\n",
              "    <tr style=\"text-align: right;\">\n",
              "      <th></th>\n",
              "      <th>Unnamed: 0</th>\n",
              "      <th>price</th>\n",
              "      <th>year</th>\n",
              "      <th>mileage</th>\n",
              "      <th>lot</th>\n",
              "    </tr>\n",
              "  </thead>\n",
              "  <tbody>\n",
              "    <tr>\n",
              "      <th>count</th>\n",
              "      <td>2499.000000</td>\n",
              "      <td>2499.000000</td>\n",
              "      <td>2499.000000</td>\n",
              "      <td>2.499000e+03</td>\n",
              "      <td>2.499000e+03</td>\n",
              "    </tr>\n",
              "    <tr>\n",
              "      <th>mean</th>\n",
              "      <td>1249.000000</td>\n",
              "      <td>18767.671469</td>\n",
              "      <td>2016.714286</td>\n",
              "      <td>5.229869e+04</td>\n",
              "      <td>1.676914e+08</td>\n",
              "    </tr>\n",
              "    <tr>\n",
              "      <th>std</th>\n",
              "      <td>721.543484</td>\n",
              "      <td>12116.094936</td>\n",
              "      <td>3.442656</td>\n",
              "      <td>5.970552e+04</td>\n",
              "      <td>2.038772e+05</td>\n",
              "    </tr>\n",
              "    <tr>\n",
              "      <th>min</th>\n",
              "      <td>0.000000</td>\n",
              "      <td>0.000000</td>\n",
              "      <td>1973.000000</td>\n",
              "      <td>0.000000e+00</td>\n",
              "      <td>1.593488e+08</td>\n",
              "    </tr>\n",
              "    <tr>\n",
              "      <th>25%</th>\n",
              "      <td>624.500000</td>\n",
              "      <td>10200.000000</td>\n",
              "      <td>2016.000000</td>\n",
              "      <td>2.146650e+04</td>\n",
              "      <td>1.676253e+08</td>\n",
              "    </tr>\n",
              "    <tr>\n",
              "      <th>50%</th>\n",
              "      <td>1249.000000</td>\n",
              "      <td>16900.000000</td>\n",
              "      <td>2018.000000</td>\n",
              "      <td>3.536500e+04</td>\n",
              "      <td>1.677451e+08</td>\n",
              "    </tr>\n",
              "    <tr>\n",
              "      <th>75%</th>\n",
              "      <td>1873.500000</td>\n",
              "      <td>25555.500000</td>\n",
              "      <td>2019.000000</td>\n",
              "      <td>6.347250e+04</td>\n",
              "      <td>1.677798e+08</td>\n",
              "    </tr>\n",
              "    <tr>\n",
              "      <th>max</th>\n",
              "      <td>2498.000000</td>\n",
              "      <td>84900.000000</td>\n",
              "      <td>2020.000000</td>\n",
              "      <td>1.017936e+06</td>\n",
              "      <td>1.678055e+08</td>\n",
              "    </tr>\n",
              "  </tbody>\n",
              "</table>\n",
              "</div>\n",
              "      <button class=\"colab-df-convert\" onclick=\"convertToInteractive('df-4de7241f-c3fc-4d18-bc5c-34ec7ad1af69')\"\n",
              "              title=\"Convert this dataframe to an interactive table.\"\n",
              "              style=\"display:none;\">\n",
              "        \n",
              "  <svg xmlns=\"http://www.w3.org/2000/svg\" height=\"24px\"viewBox=\"0 0 24 24\"\n",
              "       width=\"24px\">\n",
              "    <path d=\"M0 0h24v24H0V0z\" fill=\"none\"/>\n",
              "    <path d=\"M18.56 5.44l.94 2.06.94-2.06 2.06-.94-2.06-.94-.94-2.06-.94 2.06-2.06.94zm-11 1L8.5 8.5l.94-2.06 2.06-.94-2.06-.94L8.5 2.5l-.94 2.06-2.06.94zm10 10l.94 2.06.94-2.06 2.06-.94-2.06-.94-.94-2.06-.94 2.06-2.06.94z\"/><path d=\"M17.41 7.96l-1.37-1.37c-.4-.4-.92-.59-1.43-.59-.52 0-1.04.2-1.43.59L10.3 9.45l-7.72 7.72c-.78.78-.78 2.05 0 2.83L4 21.41c.39.39.9.59 1.41.59.51 0 1.02-.2 1.41-.59l7.78-7.78 2.81-2.81c.8-.78.8-2.07 0-2.86zM5.41 20L4 18.59l7.72-7.72 1.47 1.35L5.41 20z\"/>\n",
              "  </svg>\n",
              "      </button>\n",
              "      \n",
              "  <style>\n",
              "    .colab-df-container {\n",
              "      display:flex;\n",
              "      flex-wrap:wrap;\n",
              "      gap: 12px;\n",
              "    }\n",
              "\n",
              "    .colab-df-convert {\n",
              "      background-color: #E8F0FE;\n",
              "      border: none;\n",
              "      border-radius: 50%;\n",
              "      cursor: pointer;\n",
              "      display: none;\n",
              "      fill: #1967D2;\n",
              "      height: 32px;\n",
              "      padding: 0 0 0 0;\n",
              "      width: 32px;\n",
              "    }\n",
              "\n",
              "    .colab-df-convert:hover {\n",
              "      background-color: #E2EBFA;\n",
              "      box-shadow: 0px 1px 2px rgba(60, 64, 67, 0.3), 0px 1px 3px 1px rgba(60, 64, 67, 0.15);\n",
              "      fill: #174EA6;\n",
              "    }\n",
              "\n",
              "    [theme=dark] .colab-df-convert {\n",
              "      background-color: #3B4455;\n",
              "      fill: #D2E3FC;\n",
              "    }\n",
              "\n",
              "    [theme=dark] .colab-df-convert:hover {\n",
              "      background-color: #434B5C;\n",
              "      box-shadow: 0px 1px 3px 1px rgba(0, 0, 0, 0.15);\n",
              "      filter: drop-shadow(0px 1px 2px rgba(0, 0, 0, 0.3));\n",
              "      fill: #FFFFFF;\n",
              "    }\n",
              "  </style>\n",
              "\n",
              "      <script>\n",
              "        const buttonEl =\n",
              "          document.querySelector('#df-4de7241f-c3fc-4d18-bc5c-34ec7ad1af69 button.colab-df-convert');\n",
              "        buttonEl.style.display =\n",
              "          google.colab.kernel.accessAllowed ? 'block' : 'none';\n",
              "\n",
              "        async function convertToInteractive(key) {\n",
              "          const element = document.querySelector('#df-4de7241f-c3fc-4d18-bc5c-34ec7ad1af69');\n",
              "          const dataTable =\n",
              "            await google.colab.kernel.invokeFunction('convertToInteractive',\n",
              "                                                     [key], {});\n",
              "          if (!dataTable) return;\n",
              "\n",
              "          const docLinkHtml = 'Like what you see? Visit the ' +\n",
              "            '<a target=\"_blank\" href=https://colab.research.google.com/notebooks/data_table.ipynb>data table notebook</a>'\n",
              "            + ' to learn more about interactive tables.';\n",
              "          element.innerHTML = '';\n",
              "          dataTable['output_type'] = 'display_data';\n",
              "          await google.colab.output.renderOutput(dataTable, element);\n",
              "          const docLink = document.createElement('div');\n",
              "          docLink.innerHTML = docLinkHtml;\n",
              "          element.appendChild(docLink);\n",
              "        }\n",
              "      </script>\n",
              "    </div>\n",
              "  </div>\n",
              "  "
            ]
          },
          "metadata": {},
          "execution_count": 5
        }
      ],
      "source": [
        "data.describe()"
      ]
    },
    {
      "cell_type": "code",
      "execution_count": 6,
      "metadata": {
        "id": "QCtk7xcm5m0f"
      },
      "outputs": [],
      "source": [
        "data=data.drop(data[['Unnamed: 0','vin','lot','state','country','condition']],axis=1)"
      ]
    },
    {
      "cell_type": "code",
      "execution_count": 7,
      "metadata": {
        "id": "AgBUVr5c5m3J"
      },
      "outputs": [],
      "source": [
        "data=pd.get_dummies(data[['price','brand','model','year','title_status','mileage','color']],drop_first=True)"
      ]
    },
    {
      "cell_type": "code",
      "execution_count": 8,
      "metadata": {
        "colab": {
          "base_uri": "https://localhost:8080/"
        },
        "id": "-TyptmaH5m52",
        "outputId": "9d1af697-d632-4466-dc13-5dd834e3fa08"
      },
      "outputs": [
        {
          "output_type": "execute_result",
          "data": {
            "text/plain": [
              "price                                     0\n",
              "year                                      0\n",
              "mileage                                   0\n",
              "brand_audi                                0\n",
              "brand_bmw                                 0\n",
              "                                         ..\n",
              "color_turquoise                           0\n",
              "color_tuxedo black metallic               0\n",
              "color_white                               0\n",
              "color_white platinum tri-coat metallic    0\n",
              "color_yellow                              0\n",
              "Length: 205, dtype: int64"
            ]
          },
          "metadata": {},
          "execution_count": 8
        }
      ],
      "source": [
        "data.isnull().sum()"
      ]
    },
    {
      "cell_type": "code",
      "execution_count": 9,
      "metadata": {
        "colab": {
          "base_uri": "https://localhost:8080/"
        },
        "id": "tC55BG1M5wF-",
        "outputId": "cdbba400-f76e-44b7-e0c2-b2d7a6c878b1"
      },
      "outputs": [
        {
          "output_type": "stream",
          "name": "stdout",
          "text": [
            "<class 'pandas.core.frame.DataFrame'>\n",
            "RangeIndex: 2499 entries, 0 to 2498\n",
            "Columns: 205 entries, price to color_yellow\n",
            "dtypes: float64(1), int64(2), uint8(202)\n",
            "memory usage: 551.7 KB\n"
          ]
        }
      ],
      "source": [
        "data.info()"
      ]
    },
    {
      "cell_type": "code",
      "execution_count": 10,
      "metadata": {
        "id": "Uw0nr6j_5wJz"
      },
      "outputs": [],
      "source": [
        "X=data.drop('price', axis=1)\n",
        "y=data['price']"
      ]
    },
    {
      "cell_type": "markdown",
      "source": [
        "###Train Test Split & Scaling the Data"
      ],
      "metadata": {
        "id": "CZppKMFwiUTr"
      }
    },
    {
      "cell_type": "code",
      "execution_count": 11,
      "metadata": {
        "id": "ia4Xazmo5wMr"
      },
      "outputs": [],
      "source": [
        "from sklearn.model_selection import train_test_split\n",
        "X_train,X_test,y_train,y_test=train_test_split(X,y, test_size=.20, random_state=42)"
      ]
    },
    {
      "cell_type": "code",
      "execution_count": 12,
      "metadata": {
        "id": "_orTi-z15wPX"
      },
      "outputs": [],
      "source": [
        "from sklearn.preprocessing import StandardScaler\n",
        "sc_X=StandardScaler()\n",
        "sc_y=StandardScaler()"
      ]
    },
    {
      "cell_type": "markdown",
      "source": [
        "###Importing libraries"
      ],
      "metadata": {
        "id": "EH4qwHhUiN9E"
      }
    },
    {
      "cell_type": "code",
      "execution_count": 13,
      "metadata": {
        "id": "ohRIW-AK-1JC"
      },
      "outputs": [],
      "source": [
        "from sklearn.linear_model import LogisticRegression\n",
        "from sklearn.svm import SVC\n",
        "from sklearn.ensemble import RandomForestClassifier\n",
        "from sklearn.tree import DecisionTreeClassifier"
      ]
    },
    {
      "cell_type": "code",
      "execution_count": 14,
      "metadata": {
        "id": "zmqS2w8n-ini"
      },
      "outputs": [],
      "source": [
        "from sklearn.ensemble import VotingClassifier"
      ]
    },
    {
      "cell_type": "markdown",
      "source": [
        "##Voting Classifier - ***Soft***"
      ],
      "metadata": {
        "id": "fAsj_Ev3iKRS"
      }
    },
    {
      "cell_type": "code",
      "execution_count": 18,
      "metadata": {
        "id": "dH50h48M-Yix"
      },
      "outputs": [],
      "source": [
        "log_clf=LogisticRegression(solver='liblinear',random_state=42)\n",
        "svm_clf=SVC(gamma='auto',probability=True)\n",
        "dt_clf = DecisionTreeClassifier(random_state=0)\n",
        "rnd_clf=RandomForestClassifier(n_estimators=5, random_state=42)"
      ]
    },
    {
      "cell_type": "code",
      "execution_count": 19,
      "metadata": {
        "colab": {
          "base_uri": "https://localhost:8080/"
        },
        "id": "4Kuqa1BHBwbJ",
        "outputId": "0fa184f1-89d8-42e2-af23-8b5e35e9228a"
      },
      "outputs": [
        {
          "output_type": "execute_result",
          "data": {
            "text/plain": [
              "VotingClassifier(estimators=[('lr',\n",
              "                              LogisticRegression(random_state=42,\n",
              "                                                 solver='liblinear')),\n",
              "                             ('svc', SVC(gamma='auto', probability=True)),\n",
              "                             ('dt', DecisionTreeClassifier(random_state=0)),\n",
              "                             ('rf',\n",
              "                              RandomForestClassifier(n_estimators=5,\n",
              "                                                     random_state=42))],\n",
              "                 voting='soft')"
            ]
          },
          "metadata": {},
          "execution_count": 19
        }
      ],
      "source": [
        "voting_clf=VotingClassifier(\n",
        "    estimators=[('lr',log_clf),\n",
        "                ('svc',svm_clf),\n",
        "                ('dt',dt_clf),\n",
        "                ('rf',rnd_clf)],\n",
        "    voting='soft')\n",
        "voting_clf.fit(X_train,y_train)"
      ]
    },
    {
      "cell_type": "code",
      "execution_count": 22,
      "metadata": {
        "colab": {
          "base_uri": "https://localhost:8080/"
        },
        "id": "aL3pVpMZ-Ynl",
        "outputId": "7699cb70-1f70-43ce-d067-128a79a9cd6a"
      },
      "outputs": [
        {
          "output_type": "stream",
          "name": "stdout",
          "text": [
            "LogisticRegression 0.026\n",
            "SVC 0.022\n",
            "DecisionTreeClassifier 0.052\n",
            "RandomForestClassifier 0.044\n",
            "VotingClassifier 0.054\n"
          ]
        }
      ],
      "source": [
        "from sklearn.metrics import accuracy_score\n",
        "for clf in(log_clf,svm_clf,dt_clf,rnd_clf,voting_clf):\n",
        "  clf.fit(X_train,y_train)\n",
        "  y_pred=clf.predict(X_test)\n",
        "  print(clf.__class__.__name__,accuracy_score(y_test,y_pred))"
      ]
    },
    {
      "cell_type": "markdown",
      "source": [
        "##Voting Classifier - ***Hard***"
      ],
      "metadata": {
        "id": "QOYMSGGmiGKo"
      }
    },
    {
      "cell_type": "code",
      "source": [
        "log_clf=LogisticRegression(solver='liblinear',random_state=42)\n",
        "svm_clf=SVC(gamma='auto')\n",
        "dt_clf = DecisionTreeClassifier(random_state=0)\n",
        "rnd_clf=RandomForestClassifier(n_estimators=5, random_state=42)"
      ],
      "metadata": {
        "id": "Gxv5cJynh9ve"
      },
      "execution_count": 26,
      "outputs": []
    },
    {
      "cell_type": "code",
      "source": [
        "voting_clf=VotingClassifier(\n",
        "    estimators=[('lr',log_clf),\n",
        "                ('svc',svm_clf),\n",
        "                ('dt',dt_clf),\n",
        "                ('rf',rnd_clf)],\n",
        "    voting='hard')\n",
        "voting_clf.fit(X_train,y_train)"
      ],
      "metadata": {
        "colab": {
          "base_uri": "https://localhost:8080/"
        },
        "id": "ZkFHYNrmh9yN",
        "outputId": "b73b7b4e-012b-4587-a415-640dd9d2eef9"
      },
      "execution_count": 27,
      "outputs": [
        {
          "output_type": "execute_result",
          "data": {
            "text/plain": [
              "VotingClassifier(estimators=[('lr',\n",
              "                              LogisticRegression(random_state=42,\n",
              "                                                 solver='liblinear')),\n",
              "                             ('svc', SVC(gamma='auto')),\n",
              "                             ('dt', DecisionTreeClassifier(random_state=0)),\n",
              "                             ('rf',\n",
              "                              RandomForestClassifier(n_estimators=5,\n",
              "                                                     random_state=42))])"
            ]
          },
          "metadata": {},
          "execution_count": 27
        }
      ]
    },
    {
      "cell_type": "code",
      "source": [
        "from sklearn.metrics import accuracy_score\n",
        "for clf in(log_clf,svm_clf,dt_clf,rnd_clf,voting_clf):\n",
        "  clf.fit(X_train,y_train)\n",
        "  y_pred=clf.predict(X_test)\n",
        "  print(clf.__class__.__name__,accuracy_score(y_test,y_pred))"
      ],
      "metadata": {
        "colab": {
          "base_uri": "https://localhost:8080/"
        },
        "id": "DSk14IEjiBfU",
        "outputId": "262cd9f9-e525-4ca8-a31c-52a9a8dc60e4"
      },
      "execution_count": 28,
      "outputs": [
        {
          "output_type": "stream",
          "name": "stdout",
          "text": [
            "LogisticRegression 0.026\n",
            "SVC 0.022\n",
            "DecisionTreeClassifier 0.052\n",
            "RandomForestClassifier 0.044\n",
            "VotingClassifier 0.044\n"
          ]
        }
      ]
    }
  ],
  "metadata": {
    "colab": {
      "provenance": []
    },
    "kernelspec": {
      "display_name": "Python 3",
      "name": "python3"
    },
    "language_info": {
      "name": "python"
    }
  },
  "nbformat": 4,
  "nbformat_minor": 0
}